{
 "cells": [
  {
   "cell_type": "markdown",
   "metadata": {},
   "source": [
    "# Resume Scoring\n",
    "## Sachin yadav bt21ece032\n",
    "##"
   ]
  },
  {
   "cell_type": "markdown",
   "metadata": {},
   "source": [
    "**Workflow**\n",
    "1. Creating corpus using Sketch Engine\n",
    "2. Creating word embedding using Genism , Word2Vec\n",
    "3. Preprocessing \n",
    "4. Removing common words that are not required\n",
    "5. Creating phrases of words that frequently occur togther (bigrams)\n",
    "6. Building word2vec model\n",
    "7. Extracting resumes (using PyPDF) and converting to string\n",
    "8. Building candidate profile using model.most_similar(skills), where skills is an array of required skills\n",
    "9. Creating a matcher using Spacy to match the wods in resume to most_similar(skills)\n",
    "12. Printing and visualizing the candidate profile"
   ]
  },
  {
   "cell_type": "markdown",
   "metadata": {},
   "source": [
    "### Creating Corpus using sketch Engine"
   ]
  },
  {
   "cell_type": "markdown",
   "metadata": {},
   "source": [
    "We used SketchEngine to create a corpus, wikipedia pages were given as input \n"
   ]
  },
  {
   "cell_type": "code",
   "execution_count": null,
   "metadata": {},
   "outputs": [],
   "source": [
    "import images"
   ]
  },
  {
   "cell_type": "markdown",
   "metadata": {},
   "source": [
    "### Creating word embedding "
   ]
  },
  {
   "cell_type": "code",
   "execution_count": 1,
   "metadata": {},
   "outputs": [],
   "source": [
    "from gensim.models import Word2Vec\n",
    "import string\n",
    "import re\n",
    "from nltk.corpus import stopwords\n",
    "with open(r'C:\\Users\\Sathya\\Desktop\\VIT\\VIT 6th sem\\NLP\\NLP project files\\skills.txt',encoding=\"utf8\") as f:\n",
    "    content = f.readlines()\n",
    "# you may also want to remove whitespace characters like `\\n` at the end of each line\n",
    "content = [x.strip() for x in content]"
   ]
  },
  {
   "cell_type": "code",
   "execution_count": 2,
   "metadata": {},
   "outputs": [
    {
     "data": {
      "text/plain": [
       "'Data science is a \"concept to unify statistics, data analysis, machine learning and their related methods\" in order to \"understand and analyze actual phenomena\" with data. It employs techniques and theories drawn from many fields within the context of mathematics, statistics, information science, and computer science. Turing award winner Jim Gray imagined data science as a \"fourth paradigm\" of science (empirical, theoretical, computational and now data-driven) and asserted that \"everything about science is changing because of the impact of information technology\" and the data deluge.'"
      ]
     },
     "execution_count": 2,
     "metadata": {},
     "output_type": "execute_result"
    }
   ],
   "source": [
    "content[1]"
   ]
  },
  {
   "cell_type": "code",
   "execution_count": 3,
   "metadata": {},
   "outputs": [],
   "source": [
    "from nltk.tokenize import word_tokenize\n",
    "import gensim\n",
    "from gensim.models.phrases import Phraser, Phrases"
   ]
  },
  {
   "cell_type": "markdown",
   "metadata": {},
   "source": [
    "**Preprocessing**"
   ]
  },
  {
   "cell_type": "code",
   "execution_count": 4,
   "metadata": {},
   "outputs": [],
   "source": [
    "x=[]\n",
    "for line in content:\n",
    "    tokens=word_tokenize(line)\n",
    "    tok=[w.lower() for w in tokens]\n",
    "    table=str.maketrans('','',string.punctuation)\n",
    "    strpp=[w.translate(table) for w in tok]\n",
    "    words=[word for word in strpp if word.isalpha()]\n",
    "    stop_words=set(stopwords.words('english'))\n",
    "    words=[w for w in words if not w in stop_words]\n",
    "    x.append(words)"
   ]
  },
  {
   "cell_type": "code",
   "execution_count": 5,
   "metadata": {},
   "outputs": [],
   "source": [
    "texts=x"
   ]
  },
  {
   "cell_type": "code",
   "execution_count": 6,
   "metadata": {},
   "outputs": [
    {
     "name": "stdout",
     "output_type": "stream",
     "text": [
      "['william', 'cleveland', 'introduced', 'data', 'science', 'independent', 'discipline', 'extending', 'field', 'statistics', 'incorporate', 'advances', 'computing', 'data', 'article', 'data', 'science', 'action', 'plan', 'expanding', 'technical', 'areas', 'field', 'statistics', 'published', 'volume', 'april', 'edition', 'international', 'statistical', 'review', 'revue', 'internationale', 'de', 'statistique', 'report', 'cleveland', 'establishes', 'six', 'technical', 'areas', 'believed', 'encompass', 'field', 'data', 'science', 'multidisciplinary', 'investigations', 'models', 'methods', 'data', 'computing', 'data', 'pedagogy', 'tool', 'evaluation', 'theory']\n"
     ]
    }
   ],
   "source": [
    "print(texts[6])"
   ]
  },
  {
   "cell_type": "markdown",
   "metadata": {},
   "source": [
    "**Removing commonly occuring words that are not useful**"
   ]
  },
  {
   "cell_type": "code",
   "execution_count": 7,
   "metadata": {},
   "outputs": [
    {
     "name": "stdout",
     "output_type": "stream",
     "text": [
      "['william', 'cleveland', 'introduced', 'data', 'science', 'independent', 'discipline', 'extending', 'field', 'statistics', 'incorporate', 'advances', 'computing', 'data', 'article', 'data', 'science', 'action', 'plan', 'expanding', 'technical', 'areas', 'field', 'statistics', 'published', 'volume', 'april', 'edition', 'international', 'statistical', 'review', 'revue', 'internationale', 'de', 'statistique', 'report', 'cleveland', 'establishes', 'six', 'technical', 'areas', 'believed', 'encompass', 'field', 'data', 'science', 'multidisciplinary', 'investigations', 'models', 'methods', 'data', 'computing', 'data', 'pedagogy', 'tool', 'evaluation', 'theory']\n"
     ]
    }
   ],
   "source": [
    "with open('common.txt') as f:\n",
    "    content2 = f.read()\n",
    "ntexts=[]\n",
    "l=len(texts)\n",
    "for j in range(l):\n",
    "    s=texts[j]\n",
    "    res = [i for i in s if i not in content2]\n",
    "    ntexts.append(res)\n",
    "print(texts[6])\n",
    "\n",
    "    "
   ]
  },
  {
   "cell_type": "code",
   "execution_count": 8,
   "metadata": {},
   "outputs": [
    {
     "name": "stdout",
     "output_type": "stream",
     "text": [
      "['william', 'cleveland', 'introduced', 'data', 'science', 'independent', 'discipline', 'extending', 'field', 'statistics', 'incorporate', 'advances', 'computing', 'data', 'article', 'data', 'science', 'action', 'plan', 'expanding', 'technical', 'areas', 'field', 'statistics', 'published', 'volume', 'april', 'edition', 'international', 'statistical', 'review', 'revue', 'internationale', 'de', 'statistique', 'report', 'cleveland', 'establishes', 'six', 'technical', 'areas', 'believed', 'encompass', 'field', 'data', 'science', 'multidisciplinary', 'investigations', 'models', 'methods', 'data', 'computing', 'data', 'pedagogy', 'tool', 'evaluation', 'theory']\n"
     ]
    }
   ],
   "source": [
    "print(ntexts[6])"
   ]
  },
  {
   "cell_type": "code",
   "execution_count": 9,
   "metadata": {},
   "outputs": [
    {
     "name": "stdout",
     "output_type": "stream",
     "text": [
      "316\n"
     ]
    }
   ],
   "source": [
    "print(len(ntexts))\n",
    "texts=ntexts"
   ]
  },
  {
   "cell_type": "code",
   "execution_count": 10,
   "metadata": {},
   "outputs": [],
   "source": [
    "content=texts"
   ]
  },
  {
   "cell_type": "markdown",
   "metadata": {},
   "source": [
    "**Creating bigrams**"
   ]
  },
  {
   "cell_type": "code",
   "execution_count": 11,
   "metadata": {},
   "outputs": [
    {
     "name": "stdout",
     "output_type": "stream",
     "text": [
      "1220\n"
     ]
    }
   ],
   "source": [
    "common_terms = [\"of\", \"with\", \"without\", \"and\", \"or\", \"the\", \"a\"]\n",
    "x=ntexts\n",
    "# Create the relevant phrases from the list of sentences:\n",
    "phrases = Phrases(x, common_terms=common_terms)\n",
    "# The Phraser object is used from now on to transform sentences\n",
    "bigram = Phraser(phrases)\n",
    "# Applying the Phraser to transform our sentences\n",
    "all_sentences = list(bigram[x])\n",
    "model=gensim.models.Word2Vec(all_sentences,size=5000,min_count=2,workers=4,window=4)\n",
    "model.save(\"final.model\")\n",
    "wrds=list(model.wv.vocab)\n",
    "print(len(wrds))"
   ]
  },
  {
   "cell_type": "markdown",
   "metadata": {},
   "source": [
    "**Testing**"
   ]
  },
  {
   "cell_type": "code",
   "execution_count": 12,
   "metadata": {},
   "outputs": [],
   "source": [
    "z=model.wv.most_similar(\"machine_learning\")"
   ]
  },
  {
   "cell_type": "code",
   "execution_count": 13,
   "metadata": {},
   "outputs": [
    {
     "name": "stdout",
     "output_type": "stream",
     "text": [
      "[('data', 0.15456914901733398), ('software', 0.1450301557779312), ('methods', 0.14181078970432281), ('used', 0.13762125372886658), ('learning', 0.1367097645998001), ('data_science', 0.13646116852760315), ('development', 0.1355130821466446), ('deep_neural', 0.1300312727689743), ('web', 0.1286322921514511), ('systems', 0.1274881362915039)]\n"
     ]
    }
   ],
   "source": [
    "print(z)"
   ]
  },
  {
   "cell_type": "markdown",
   "metadata": {},
   "source": [
    "### Resume Parsing"
   ]
  },
  {
   "cell_type": "code",
   "execution_count": 14,
   "metadata": {},
   "outputs": [],
   "source": [
    "import PyPDF2\n",
    "import os\n",
    "import collections\n",
    "from os import listdir\n",
    "from os.path import isfile, join\n",
    "from io import StringIO\n",
    "import pandas as pd\n",
    "from collections import Counter\n",
    "import en_core_web_sm\n",
    "nlp = en_core_web_sm.load()\n",
    "from spacy.matcher import PhraseMatcher"
   ]
  },
  {
   "cell_type": "markdown",
   "metadata": {},
   "source": [
    "**Reading Resumes from folder**"
   ]
  },
  {
   "cell_type": "code",
   "execution_count": 15,
   "metadata": {},
   "outputs": [],
   "source": [
    "mypath=r'C:\\Users\\Sathya\\Desktop\\VIT\\VIT 6th sem\\NLP\\NLP project files\\Resumes'\n",
    "#Path for the files\n",
    "onlyfiles = [os.path.join(mypath, f) for f in os.listdir(mypath) if os.path.isfile(os.path.join(mypath, f))]\n"
   ]
  },
  {
   "cell_type": "markdown",
   "metadata": {},
   "source": [
    "**Function to words from resume**"
   ]
  },
  {
   "cell_type": "code",
   "execution_count": 16,
   "metadata": {},
   "outputs": [],
   "source": [
    "import collections\n",
    "def pdfextract(file):\n",
    "    pdf_file = open(file, 'rb')\n",
    "    read_pdf = PyPDF2.PdfFileReader(pdf_file)\n",
    "    number_of_pages = read_pdf.getNumPages()\n",
    "    c = collections.Counter(range(number_of_pages))\n",
    "    for i in c:\n",
    "        #page\n",
    "        page = read_pdf.getPage(i)\n",
    "        page_content = page.extractText()\n",
    "    return (page_content.encode('utf-8'))"
   ]
  },
  {
   "cell_type": "code",
   "execution_count": 17,
   "metadata": {},
   "outputs": [],
   "source": [
    "sim_words=[k[0] for k in model.wv.most_similar(\"machine_learning\")]"
   ]
  },
  {
   "cell_type": "code",
   "execution_count": 18,
   "metadata": {},
   "outputs": [],
   "source": [
    "def create_bigram(words):\n",
    "    common_terms = [\"of\", \"with\", \"without\", \"and\", \"or\", \"the\", \"a\"]\n",
    "    x=words.split()\n",
    "# Create the relevant phrases from the list of sentences:\n",
    "    phrases = Phrases(x, common_terms=common_terms)\n",
    "# The Phraser object is used from now on to transform sentences\n",
    "    bigram = Phraser(phrases)\n",
    "# Applying the Phraser to transform our sentences is simply\n",
    "    all_sentences = list(bigram[x])\n",
    "    \n",
    "    "
   ]
  },
  {
   "cell_type": "markdown",
   "metadata": {},
   "source": [
    "**Function to build candidate profile**"
   ]
  },
  {
   "cell_type": "code",
   "execution_count": 19,
   "metadata": {},
   "outputs": [],
   "source": [
    "def create_profile(file):\n",
    "    model=Word2Vec.load(\"final.model\")\n",
    "    text = str(pdfextract(file))\n",
    "    text = text.replace(\"\\\\n\", \"\")\n",
    "    text = text.lower()\n",
    "    #print(text)\n",
    "    #text=create_bigram(text)\n",
    "    #print(text)\n",
    "    #below is the csv where we have all the keywords, you can customize your own\n",
    "    #keyword_dictionary = pd.read_csv(r'C:\\Users\\dell\\Desktop\\New folder\\ML_CS\\NLP\\technical_skills.csv')\n",
    "    stats = [nlp(text[0]) for text in model.wv.most_similar(\"statistics\")]\n",
    "    NLP = [nlp(text[0]) for text in model.wv.most_similar(\"language\")]\n",
    "    ML = [nlp(text[0]) for text in model.wv.most_similar(\"machine_learning\")]\n",
    "    DL = [nlp(text[0]) for text in model.wv.most_similar(\"deep\")]\n",
    "    #R = [nlp(text) for text in keyword_dictionary['R Language'].dropna(axis = 0)]\n",
    "    python = [nlp(text[0]) for text in model.wv.most_similar(\"python\")]\n",
    "    Data_Engineering = [nlp(text[0]) for text in model.wv.most_similar(\"data\")]\n",
    "    print(\"*******************************************\")\n",
    "    #print(stats_words,NLP_words)\n",
    "    matcher = PhraseMatcher(nlp.vocab)\n",
    "    matcher.add('Stats', None, *stats)\n",
    "    matcher.add('NLP', None, *NLP)\n",
    "    matcher.add('ML', None, *ML)\n",
    "    matcher.add('DL', None, *DL)\n",
    "    matcher.add('Python', None, *python)\n",
    "    matcher.add('DE', None, *Data_Engineering)\n",
    "    doc = nlp(text)\n",
    "    \n",
    "    d = []  \n",
    "    matches = matcher(doc)\n",
    "    for match_id, start, end in matches:\n",
    "        rule_id = nlp.vocab.strings[match_id]  # get the unicode I\n",
    "        span = doc[start : end]               # get the matched slice of the doc\n",
    "        d.append((rule_id, span.text))      \n",
    "    keywords = \"\\n\".join(f'{i[0]} {i[1]} ({j})' for i,j in Counter(d).items())\n",
    "    print(\"KEYWORDS\")\n",
    "    print(keywords)\n",
    "    \n",
    "    ## convertimg string of keywords to dataframe\n",
    "    df = pd.read_csv(StringIO(keywords),names = ['Keywords_List'])\n",
    "    df1 = pd.DataFrame(df.Keywords_List.str.split(' ',1).tolist(),columns = ['Subject','Keyword'])\n",
    "    df2 = pd.DataFrame(df1.Keyword.str.split('(',1).tolist(),columns = ['Keyword', 'Count'])\n",
    "    df3 = pd.concat([df1['Subject'],df2['Keyword'], df2['Count']], axis =1) \n",
    "    df3['Count'] = df3['Count'].apply(lambda x: x.rstrip(\")\"))\n",
    "    print(\"********************DF********************\")\n",
    "    print(df)\n",
    "    \n",
    "    base = os.path.basename(file)\n",
    "    filename = os.path.splitext(base)[0]\n",
    "    \n",
    "       \n",
    "    name = filename.split('_')\n",
    "    print(name)\n",
    "    name2 = name[0]\n",
    "    name2 = name2.lower()\n",
    "    ## converting str to dataframe\n",
    "    name3 = pd.read_csv(StringIO(name2),names = ['Candidate Name'])\n",
    "    \n",
    "    dataf = pd.concat([name3['Candidate Name'], df3['Subject'], df3['Keyword'], df3['Count']], axis = 1)\n",
    "    dataf['Candidate Name'].fillna(dataf['Candidate Name'].iloc[0], inplace = True)\n",
    "    print(\"******************DATAF**************\")\n",
    "    print(dataf)\n",
    "\n",
    "    return(dataf)"
   ]
  },
  {
   "cell_type": "markdown",
   "metadata": {},
   "source": [
    "**Code to execute the above functions**"
   ]
  },
  {
   "cell_type": "code",
   "execution_count": 20,
   "metadata": {},
   "outputs": [
    {
     "name": "stdout",
     "output_type": "stream",
     "text": [
      "*******************************************\n",
      "KEYWORDS\n",
      "Stats programming (1)\n",
      "DE systems (1)\n",
      "DE software (1)\n",
      "Python data (3)\n",
      "ML web (1)\n",
      "********************DF********************\n",
      "           Keywords_List\n",
      "0  Stats programming (1)\n",
      "1         DE systems (1)\n",
      "2        DE software (1)\n",
      "3        Python data (3)\n",
      "4             ML web (1)\n",
      "['AmanSharma']\n",
      "******************DATAF**************\n",
      "  Candidate Name Subject       Keyword Count\n",
      "0     amansharma   Stats  programming      1\n",
      "1     amansharma      DE      systems      1\n",
      "2     amansharma      DE     software      1\n",
      "3     amansharma  Python         data      3\n",
      "4     amansharma      ML          web      1\n",
      "*******************************************\n",
      "KEYWORDS\n",
      "DL using (4)\n",
      "DL image (1)\n",
      "********************DF********************\n",
      "  Keywords_List\n",
      "0  DL using (4)\n",
      "1  DL image (1)\n",
      "['Chandler']\n",
      "******************DATAF**************\n",
      "  Candidate Name Subject Keyword Count\n",
      "0       chandler      DL  using      4\n",
      "1       chandler      DL  image      1\n",
      "*******************************************\n",
      "KEYWORDS\n",
      "DE learning (1)\n",
      "Python data (1)\n",
      "DL using (3)\n",
      "DL image (1)\n",
      "********************DF********************\n",
      "     Keywords_List\n",
      "0  DE learning (1)\n",
      "1  Python data (1)\n",
      "2     DL using (3)\n",
      "3     DL image (1)\n",
      "['MeghnaLohani']\n",
      "******************DATAF**************\n",
      "  Candidate Name Subject    Keyword Count\n",
      "0   meghnalohani      DE  learning      1\n",
      "1   meghnalohani  Python      data      1\n",
      "2   meghnalohani      DL     using      3\n",
      "3   meghnalohani      DL     image      1\n",
      "*******************************************\n",
      "KEYWORDS\n",
      "DL using (5)\n",
      "DL image (1)\n",
      "DE deep (1)\n",
      "DE learning (1)\n",
      "********************DF********************\n",
      "     Keywords_List\n",
      "0     DL using (5)\n",
      "1     DL image (1)\n",
      "2      DE deep (1)\n",
      "3  DE learning (1)\n",
      "['Phoebe Buffay']\n",
      "******************DATAF**************\n",
      "  Candidate Name Subject    Keyword Count\n",
      "0  phoebe buffay      DL     using      5\n",
      "1  phoebe buffay      DL     image      1\n",
      "2  phoebe buffay      DE      deep      1\n",
      "3  phoebe buffay      DE  learning      1\n",
      "*******************************************\n",
      "KEYWORDS\n",
      "DL using (4)\n",
      "DL image (1)\n",
      "********************DF********************\n",
      "  Keywords_List\n",
      "0  DL using (4)\n",
      "1  DL image (1)\n",
      "['VAISHALI BIJOY']\n",
      "******************DATAF**************\n",
      "   Candidate Name Subject Keyword Count\n",
      "0  vaishali bijoy      DL  using      4\n",
      "1  vaishali bijoy      DL  image      1\n"
     ]
    }
   ],
   "source": [
    "#Code to execute the above functions \n",
    "final_db=pd.DataFrame()\n",
    "i=0\n",
    "while i < len(onlyfiles):\n",
    "    file=onlyfiles[i]\n",
    "    dat=create_profile(file)\n",
    "\n",
    "    final_db=final_db.append(dat)\n",
    "    i+=1\n",
    "    #print(final_db)"
   ]
  },
  {
   "cell_type": "markdown",
   "metadata": {},
   "source": [
    "**Counting words under each category and building the candidate profile**"
   ]
  },
  {
   "cell_type": "code",
   "execution_count": 21,
   "metadata": {},
   "outputs": [
    {
     "data": {
      "text/html": [
       "<div>\n",
       "<style scoped>\n",
       "    .dataframe tbody tr th:only-of-type {\n",
       "        vertical-align: middle;\n",
       "    }\n",
       "\n",
       "    .dataframe tbody tr th {\n",
       "        vertical-align: top;\n",
       "    }\n",
       "\n",
       "    .dataframe thead th {\n",
       "        text-align: right;\n",
       "    }\n",
       "</style>\n",
       "<table border=\"1\" class=\"dataframe\">\n",
       "  <thead>\n",
       "    <tr style=\"text-align: right;\">\n",
       "      <th></th>\n",
       "      <th>Candidate Name</th>\n",
       "      <th>DE</th>\n",
       "      <th>DL</th>\n",
       "      <th>ML</th>\n",
       "      <th>Python</th>\n",
       "      <th>Stats</th>\n",
       "    </tr>\n",
       "  </thead>\n",
       "  <tbody>\n",
       "    <tr>\n",
       "      <th>0</th>\n",
       "      <td>amansharma</td>\n",
       "      <td>2.0</td>\n",
       "      <td>0.0</td>\n",
       "      <td>1.0</td>\n",
       "      <td>1.0</td>\n",
       "      <td>1.0</td>\n",
       "    </tr>\n",
       "    <tr>\n",
       "      <th>1</th>\n",
       "      <td>chandler</td>\n",
       "      <td>0.0</td>\n",
       "      <td>2.0</td>\n",
       "      <td>0.0</td>\n",
       "      <td>0.0</td>\n",
       "      <td>0.0</td>\n",
       "    </tr>\n",
       "    <tr>\n",
       "      <th>2</th>\n",
       "      <td>meghnalohani</td>\n",
       "      <td>1.0</td>\n",
       "      <td>2.0</td>\n",
       "      <td>0.0</td>\n",
       "      <td>1.0</td>\n",
       "      <td>0.0</td>\n",
       "    </tr>\n",
       "    <tr>\n",
       "      <th>3</th>\n",
       "      <td>phoebe buffay</td>\n",
       "      <td>2.0</td>\n",
       "      <td>2.0</td>\n",
       "      <td>0.0</td>\n",
       "      <td>0.0</td>\n",
       "      <td>0.0</td>\n",
       "    </tr>\n",
       "    <tr>\n",
       "      <th>4</th>\n",
       "      <td>vaishali bijoy</td>\n",
       "      <td>0.0</td>\n",
       "      <td>2.0</td>\n",
       "      <td>0.0</td>\n",
       "      <td>0.0</td>\n",
       "      <td>0.0</td>\n",
       "    </tr>\n",
       "  </tbody>\n",
       "</table>\n",
       "</div>"
      ],
      "text/plain": [
       "   Candidate Name   DE   DL   ML  Python  Stats\n",
       "0      amansharma  2.0  0.0  1.0     1.0    1.0\n",
       "1        chandler  0.0  2.0  0.0     0.0    0.0\n",
       "2    meghnalohani  1.0  2.0  0.0     1.0    0.0\n",
       "3   phoebe buffay  2.0  2.0  0.0     0.0    0.0\n",
       "4  vaishali bijoy  0.0  2.0  0.0     0.0    0.0"
      ]
     },
     "execution_count": 21,
     "metadata": {},
     "output_type": "execute_result"
    }
   ],
   "source": [
    "#Code to count words under each category and visualize it through MAtplotlib\n",
    "final_db2 = final_db['Keyword'].groupby([final_db['Candidate Name'], final_db['Subject']]).count().unstack()\n",
    "final_db2.reset_index(inplace = True)\n",
    "final_db2.fillna(0,inplace=True)\n",
    "candidate_data = final_db2.iloc[:,1:]\n",
    "candidate_data.index = final_db2['Candidate Name']\n",
    "#the candidate profile in a csv format\n",
    "cand=candidate_data.to_csv('candidate_profile.csv')\n",
    "cand_profile=pd.read_csv('candidate_profile.csv')\n",
    "cand_profile"
   ]
  },
  {
   "cell_type": "markdown",
   "metadata": {},
   "source": [
    "**Visualizing by matplotlib**"
   ]
  },
  {
   "cell_type": "code",
   "execution_count": 22,
   "metadata": {},
   "outputs": [
    {
     "data": {
      "image/png": "[encoded data removed]",
      "text/plain": [
       "<Figure size 1800x504 with 1 Axes>"
      ]
     },
     "metadata": {
      "needs_background": "light"
     },
     "output_type": "display_data"
    }
   ],
   "source": [
    "import matplotlib.pyplot as plt\n",
    "%matplotlib inline\n",
    "plt.rcParams.update({'font.size': 20})\n",
    "ax = candidate_data.plot.barh(title=\"Keywords in Resume according to category\", legend=False, figsize=(25,7), stacked=True)\n",
    "skills = []\n",
    "for j in candidate_data.columns:\n",
    "    for i in candidate_data.index:\n",
    "        skill = str(j)+\": \" + str(candidate_data.loc[i][j])\n",
    "        skills.append(skill)\n",
    "patches = ax.patches\n",
    "for skill, rect in zip(skills, patches):\n",
    "    width = rect.get_width()\n",
    "    if width > 0:\n",
    "        x = rect.get_x()\n",
    "        y = rect.get_y()\n",
    "        height = rect.get_height()\n",
    "        ax.text(x + width/2., y + height/2., skill, ha='center', va='center')\n",
    "plt.show()"
   ]
  },
  {
   "cell_type": "markdown",
   "metadata": {},
   "source": [
    "# References"
   ]
  },
  {
   "cell_type": "markdown",
   "metadata": {},
   "source": [
    "1. https://machinelearningmastery.com/develop-word-embeddings-python-gensim/\n",
    "2. https://www.shanelynn.ie/word-embeddings-in-python-with-spacy-and-gensim/\n",
    "3. https://app.sketchengine.eu/\n"
   ]
  }
 ],
 "metadata": {
  "kernelspec": {
   "display_name": "Python 3",
   "language": "python",
   "name": "python3"
  },
  "language_info": {
   "codemirror_mode": {
    "name": "ipython",
    "version": 3
   },
   "file_extension": ".py",
   "mimetype": "text/x-python",
   "name": "python",
   "nbconvert_exporter": "python",
   "pygments_lexer": "ipython3",
   "version": "3.7.1"
  }
 },
 "nbformat": 4,
 "nbformat_minor": 2
}
